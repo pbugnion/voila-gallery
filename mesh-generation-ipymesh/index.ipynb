{
 "cells": [
  {
   "cell_type": "markdown",
   "metadata": {},
   "source": [
    "In this app we:\n",
    "* Edit a [Planar Straight Line Graph](https://en.wikipedia.org/wiki/Planar_straight-line_graph) with the [erdc/ipymesh](https://github.com/erdc/ipymesh) widget\n",
    "* Generate a triangular mesh with the [triangle](https://www.cs.cmu.edu/~quake/triangle.html) mesh generator using the [triangle python bindings](https://rufat.be/triangle/index.html)\n",
    "\n",
    "Find the code [here](https://github.com/pbugnion/voila-gallery/blob/master/mesh-generation/index.ipynb)."
   ]
  },
  {
   "cell_type": "code",
   "execution_count": 1,
   "metadata": {},
   "outputs": [],
   "source": [
    "from ipymesh import PSLGEditor\n",
    "editor = PSLGEditor(vertices=[(0.0,0.0),\n",
    "                              (0.0,1.0),\n",
    "                              (1.0,1.0),\n",
    "                              (1.0,0.0)],\n",
    "                    vertexFlags=[1,1,2,2],\n",
    "                    segments=[(0,1),\n",
    "                              (1,2),\n",
    "                              (2,3),\n",
    "                              (3,0)],\n",
    "                    segmentFlags=[1,1,2,1],\n",
    "                    regions=[(0.5,0.5)],\n",
    "                    regionFlags=[1],\n",
    "                    regionTypes=[1,2,0],\n",
    "                    boundaryTypes=[1,2,0],\n",
    "                    Lx=1.05,\n",
    "                    Ly=1.05,\n",
    "                    x0=-0.15,\n",
    "                    y0=-0.15,\n",
    "                    width=500,\n",
    "                    height=500)"
   ]
  },
  {
   "cell_type": "code",
   "execution_count": 2,
   "metadata": {},
   "outputs": [],
   "source": [
    "import ipywidgets\n",
    "import triangle as tr\n",
    "import matplotlib.pyplot as plt\n",
    "from bqplot import (\n",
    "    LinearScale, OrdinalColorScale, Lines, Axis, ColorAxis, Figure\n",
    ")\n",
    "fig=Figure()\n",
    "def genMesh(b=None):\n",
    "    global editor,fig\n",
    "    pslg = dict(vertices=editor.vertices,\n",
    "                vertex_attributes=editor.vertexFlags,\n",
    "                segments=editor.segments,\n",
    "                segment_markers=editor.segmentFlags)\n",
    "    if editor.holes:\n",
    "        pslg['holes'] = editor.holes\n",
    "    if editor.regions:\n",
    "        pslg['regions'] = [[r[0],r[1],rF, 0.1] for (r,rF) in \n",
    "                           zip(editor.regions,editor.regionFlags)]\n",
    "    mesh = tr.triangulate(pslg,'pq')\n",
    "    size = 20\n",
    "    x_data = [[x1,x2] for x1,x2 in zip(mesh['vertices'][mesh['segments'][:,0],0],\n",
    "                                       mesh['vertices'][mesh['segments'][:,1],0])]\n",
    "    y_data = [[y1,y2] for y1,y2 in zip(mesh['vertices'][mesh['segments'][:,0],1],\n",
    "                                       mesh['vertices'][mesh['segments'][:,1],1])]\n",
    "    colorsList = [ci[0] for ci in mesh['segment_markers']]\n",
    "    edges=set()\n",
    "    for t in mesh['triangles']:\n",
    "        for n in range(3):\n",
    "            e = [t[n],t[(n+1)%3]]\n",
    "            e.sort()\n",
    "            edges.add(tuple(e))\n",
    "    for e in edges:\n",
    "        x_data.append([mesh['vertices'][e[0],0],mesh['vertices'][e[1],0]])\n",
    "        y_data.append([mesh['vertices'][e[0],1],mesh['vertices'][e[1],1]])\n",
    "        colorsList.append(0)\n",
    "    assert(len(colorsList) == len(x_data))\n",
    "    x_sc = LinearScale()\n",
    "    y_sc = LinearScale()\n",
    "    c_sc = OrdinalColorScale(domain=[0,1,2])\n",
    "    line = Lines(x=x_data, \n",
    "                 y=y_data, \n",
    "                 color=colorsList,\n",
    "                 scales={'x': x_sc, \n",
    "                         'y': y_sc, \n",
    "                         'color': c_sc},\n",
    "                 stroke_width=3,  \n",
    "                 display_legend=False)\n",
    "    ax_x = Axis(scale=x_sc, grid_lines='solid', label='x')\n",
    "    ax_y = Axis(scale=y_sc, orientation='vertical', tick_format='0.2f',\n",
    "                grid_lines='solid', label='y')\n",
    "    ax_c = ColorAxis(scale=c_sc, side='right', visible=True)\n",
    "\n",
    "    fig.marks=[line]\n",
    "    fig.axes=[ax_x, ax_y, ax_c]\n",
    "    fig.max_aspect_ratio = 1\n",
    "    fig.min_aspect_ratio = 1\n",
    "genMesh()\n",
    "button  = ipywidgets.Button(\n",
    "    description='Generate Mesh',\n",
    "    disabled=False,\n",
    "    button_style='', # 'success', 'info', 'warning', 'danger' or ''\n",
    "    tooltip='Regenerate the mesh'\n",
    ")\n",
    "button.on_click(genMesh)"
   ]
  },
  {
   "cell_type": "code",
   "execution_count": 3,
   "metadata": {},
   "outputs": [
    {
     "data": {
      "application/vnd.jupyter.widget-view+json": {
       "model_id": "71dc594058894e88923a15802c126eee",
       "version_major": 2,
       "version_minor": 0
      },
      "text/plain": [
       "Tab(children=(VBox(children=(Button(description='Generate Mesh', style=ButtonStyle(), tooltip='Regenerate the …"
      ]
     },
     "metadata": {},
     "output_type": "display_data"
    }
   ],
   "source": [
    "from ipywidgets import Tab,VBox\n",
    "app=Tab(children=[VBox(children=[button, editor]),\n",
    "                  fig])\n",
    "app.set_title(0,\"Graph Editor\")\n",
    "app.set_title(1,\"Mesh\")\n",
    "display(app)"
   ]
  },
  {
   "cell_type": "code",
   "execution_count": null,
   "metadata": {},
   "outputs": [],
   "source": []
  }
 ],
 "metadata": {
  "kernelspec": {
   "display_name": "Python 3",
   "language": "python",
   "name": "python3"
  },
  "language_info": {
   "codemirror_mode": {
    "name": "ipython",
    "version": 3
   },
   "file_extension": ".py",
   "mimetype": "text/x-python",
   "name": "python",
   "nbconvert_exporter": "python",
   "pygments_lexer": "ipython3",
   "version": "3.7.2"
  }
 },
 "nbformat": 4,
 "nbformat_minor": 2
}
