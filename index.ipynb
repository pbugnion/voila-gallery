{
 "cells": [
  {
   "cell_type": "markdown",
   "metadata": {},
   "source": [
    "# Voila gallery\n",
    "\n",
    "This is a set of examples demonstrating how to use [Voila](https://github.com/QuantStack/voila).\n",
    "\n",
    "The source for the examples is available [on GitHub](https://github.com/pbugnion/voila-gallery).\n",
    "\n",
    "## Index\n",
    "\n",
    "- [country-indicators](country-indicators/index) shows how to integrate Matplotlib plots using output widgets.\n",
    "- [gaussian-density](gaussian-density/index) shows how to build a dashboard around a bqplot plot.\n",
    "- [stl-display](stl-display/index) shows how to read STL files and display them with [ipyvolume](https://github.com/maartenbreddels/ipyvolume).\n",
    "- [mesh-generation-ipymesh](mesh-generation-ipymesh/index) shows how to construct a Planar Straight Line Graph with [ipymesh](https://github.com/erdc/ipymesh) and triangulate it with [triangle](https://www.cs.cmu.edu/~quake/triangle.html).\n",
    "- [mesh-generation-ipyleaflet](mesh-generation-ipyleaflet/index) shows how to construct a Planar Straight Line Graph with [ipyleaflet](https://github.com/jupyter-widgets/ipymesh) and triangulate it with [triangle](https://www.cs.cmu.edu/~quake/triangle.html), adaptively, to approximate complex bathymetry/terrain from the GEBCO global grid.\n"
   ]
  },
  {
   "cell_type": "code",
   "execution_count": null,
   "metadata": {},
   "outputs": [],
   "source": []
  }
 ],
 "metadata": {
  "kernelspec": {
   "display_name": "Python 3",
   "language": "python",
   "name": "python3"
  },
  "language_info": {
   "codemirror_mode": {
    "name": "ipython",
    "version": 3
   },
   "file_extension": ".py",
   "mimetype": "text/x-python",
   "name": "python",
   "nbconvert_exporter": "python",
   "pygments_lexer": "ipython3",
   "version": "3.7.2"
  }
 },
 "nbformat": 4,
 "nbformat_minor": 2
}
